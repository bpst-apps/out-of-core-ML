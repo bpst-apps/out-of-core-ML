{
 "cells": [
  {
   "cell_type": "code",
   "execution_count": 1,
   "id": "944e31e4",
   "metadata": {},
   "outputs": [],
   "source": [
    "import pandas as pd"
   ]
  },
  {
   "cell_type": "code",
   "execution_count": 2,
   "id": "186124e9",
   "metadata": {},
   "outputs": [],
   "source": [
    "# %time df = pd.read_csv('large_dataset.csv')\n",
    "# print(df.shape)\n",
    "# df.head()"
   ]
  },
  {
   "cell_type": "code",
   "execution_count": 3,
   "id": "ee81de57",
   "metadata": {},
   "outputs": [],
   "source": [
    "import vaex"
   ]
  },
  {
   "cell_type": "code",
   "execution_count": 4,
   "id": "8a5c026a",
   "metadata": {},
   "outputs": [],
   "source": [
    "# vaex_df = vaex.from_pandas(df)\n",
    "# print(type(vaex_df))\n",
    "# vaex_df.export_hdf5('large_data.hdf5')"
   ]
  },
  {
   "cell_type": "markdown",
   "id": "e89697a4",
   "metadata": {},
   "source": [
    "download dataset [here](https://drive.google.com/file/d/1U__WYRE-TWFOtHGOYyXQHwzdw-VMrwgu/view)"
   ]
  },
  {
   "cell_type": "code",
   "execution_count": 5,
   "id": "6c781032",
   "metadata": {},
   "outputs": [],
   "source": [
    "vaex_df = vaex.open('large_data.hdf5')"
   ]
  },
  {
   "cell_type": "code",
   "execution_count": 6,
   "id": "5ecc3589",
   "metadata": {},
   "outputs": [
    {
     "data": {
      "text/html": [
       "<table>\n",
       "<thead>\n",
       "<tr><th>#                            </th><th style=\"text-align: right;\">       f1</th><th style=\"text-align: right;\">        f2</th><th style=\"text-align: right;\">       f3</th><th style=\"text-align: right;\">       f4</th><th style=\"text-align: right;\">   target</th></tr>\n",
       "</thead>\n",
       "<tbody>\n",
       "<tr><td><i style='opacity: 0.6'>0</i></td><td style=\"text-align: right;\"> 0.203936</td><td style=\"text-align: right;\">-0.291191 </td><td style=\"text-align: right;\">-0.617251</td><td style=\"text-align: right;\">-1.4613  </td><td style=\"text-align: right;\"> 10.7967 </td></tr>\n",
       "<tr><td><i style='opacity: 0.6'>1</i></td><td style=\"text-align: right;\">-1.19543 </td><td style=\"text-align: right;\"> 0.0692141</td><td style=\"text-align: right;\"> 0.291861</td><td style=\"text-align: right;\"> 1.97251 </td><td style=\"text-align: right;\"> 11.154  </td></tr>\n",
       "<tr><td><i style='opacity: 0.6'>2</i></td><td style=\"text-align: right;\">-2.56027 </td><td style=\"text-align: right;\">-0.827846 </td><td style=\"text-align: right;\"> 0.405551</td><td style=\"text-align: right;\">-0.132588</td><td style=\"text-align: right;\">-20.3427 </td></tr>\n",
       "<tr><td><i style='opacity: 0.6'>3</i></td><td style=\"text-align: right;\">-1.1312  </td><td style=\"text-align: right;\"> 0.252654 </td><td style=\"text-align: right;\"> 0.961175</td><td style=\"text-align: right;\"> 1.23687 </td><td style=\"text-align: right;\">  1.40764</td></tr>\n",
       "<tr><td><i style='opacity: 0.6'>4</i></td><td style=\"text-align: right;\"> 0.858774</td><td style=\"text-align: right;\">-0.461605 </td><td style=\"text-align: right;\"> 1.0955  </td><td style=\"text-align: right;\">-0.87158 </td><td style=\"text-align: right;\">-17.0431 </td></tr>\n",
       "<tr><td><i style='opacity: 0.6'>5</i></td><td style=\"text-align: right;\"> 0.63273 </td><td style=\"text-align: right;\"> 2.07437  </td><td style=\"text-align: right;\">-0.700978</td><td style=\"text-align: right;\"> 1.36085 </td><td style=\"text-align: right;\"> 49.2754 </td></tr>\n",
       "<tr><td><i style='opacity: 0.6'>6</i></td><td style=\"text-align: right;\">-1.92771 </td><td style=\"text-align: right;\"> 0.155743 </td><td style=\"text-align: right;\">-0.394158</td><td style=\"text-align: right;\">-1.3712  </td><td style=\"text-align: right;\"> 11.0902 </td></tr>\n",
       "<tr><td><i style='opacity: 0.6'>7</i></td><td style=\"text-align: right;\">-0.165462</td><td style=\"text-align: right;\">-0.481113 </td><td style=\"text-align: right;\">-1.29813 </td><td style=\"text-align: right;\"> 1.75204 </td><td style=\"text-align: right;\">-41.1136 </td></tr>\n",
       "<tr><td><i style='opacity: 0.6'>8</i></td><td style=\"text-align: right;\">-1.31883 </td><td style=\"text-align: right;\"> 0.393728 </td><td style=\"text-align: right;\">-1.83311 </td><td style=\"text-align: right;\">-0.599728</td><td style=\"text-align: right;\">  1.87724</td></tr>\n",
       "<tr><td><i style='opacity: 0.6'>9</i></td><td style=\"text-align: right;\">-0.671377</td><td style=\"text-align: right;\">-0.172073 </td><td style=\"text-align: right;\">-0.75585 </td><td style=\"text-align: right;\"> 1.05745 </td><td style=\"text-align: right;\">-26.2623 </td></tr>\n",
       "</tbody>\n",
       "</table>"
      ],
      "text/plain": [
       "  #         f1          f2         f3         f4     target\n",
       "  0   0.203936  -0.291191   -0.617251  -1.4613     10.7967\n",
       "  1  -1.19543    0.0692141   0.291861   1.97251    11.154\n",
       "  2  -2.56027   -0.827846    0.405551  -0.132588  -20.3427\n",
       "  3  -1.1312     0.252654    0.961175   1.23687     1.40764\n",
       "  4   0.858774  -0.461605    1.0955    -0.87158   -17.0431\n",
       "  5   0.63273    2.07437    -0.700978   1.36085    49.2754\n",
       "  6  -1.92771    0.155743   -0.394158  -1.3712     11.0902\n",
       "  7  -0.165462  -0.481113   -1.29813    1.75204   -41.1136\n",
       "  8  -1.31883    0.393728   -1.83311   -0.599728    1.87724\n",
       "  9  -0.671377  -0.172073   -0.75585    1.05745   -26.2623"
      ]
     },
     "execution_count": 6,
     "metadata": {},
     "output_type": "execute_result"
    }
   ],
   "source": [
    "vaex_df.head()"
   ]
  },
  {
   "cell_type": "code",
   "execution_count": 7,
   "id": "fff1d9fc",
   "metadata": {},
   "outputs": [
    {
     "name": "stderr",
     "output_type": "stream",
     "text": [
      "C:\\Users\\thaku\\anaconda3\\envs\\deep-learning\\lib\\site-packages\\vaex\\ml\\__init__.py:28: UserWarning: Make sure the DataFrame is shuffled\n",
      "  warnings.warn('Make sure the DataFrame is shuffled')\n"
     ]
    }
   ],
   "source": [
    "vaex_df = vaex_df.shuffle()\n",
    "df_train, df_test = vaex_df.ml.train_test_split(test_size=0.2)"
   ]
  },
  {
   "cell_type": "code",
   "execution_count": 8,
   "id": "cfdf6934",
   "metadata": {},
   "outputs": [
    {
     "data": {
      "text/plain": [
       "(24000000, 5)"
      ]
     },
     "execution_count": 8,
     "metadata": {},
     "output_type": "execute_result"
    }
   ],
   "source": [
    "df_train.shape"
   ]
  },
  {
   "cell_type": "code",
   "execution_count": 9,
   "id": "ac112984",
   "metadata": {},
   "outputs": [
    {
     "data": {
      "text/plain": [
       "(6000000, 5)"
      ]
     },
     "execution_count": 9,
     "metadata": {},
     "output_type": "execute_result"
    }
   ],
   "source": [
    "df_test.shape"
   ]
  },
  {
   "cell_type": "code",
   "execution_count": 10,
   "id": "1f680438",
   "metadata": {},
   "outputs": [],
   "source": [
    "from vaex.ml.sklearn import IncrementalPredictor\n",
    "from sklearn.linear_model import SGDRegressor"
   ]
  },
  {
   "cell_type": "code",
   "execution_count": 11,
   "id": "8cb9e532",
   "metadata": {},
   "outputs": [],
   "source": [
    "features = ['f1','f2','f3','f4']\n",
    "target = 'target'"
   ]
  },
  {
   "cell_type": "code",
   "execution_count": 12,
   "id": "7628acb3",
   "metadata": {},
   "outputs": [],
   "source": [
    "model = SGDRegressor()"
   ]
  },
  {
   "cell_type": "code",
   "execution_count": 13,
   "id": "ab696064",
   "metadata": {},
   "outputs": [
    {
     "data": {
      "application/vnd.jupyter.widget-view+json": {
       "model_id": "21f558d160b94ca9ad0bbf245695478b",
       "version_major": 2,
       "version_minor": 0
      },
      "text/plain": [
       "HBox(children=(FloatProgress(value=0.0, max=1.0), Label(value='In progress...')))"
      ]
     },
     "metadata": {},
     "output_type": "display_data"
    }
   ],
   "source": [
    "vaex_model = IncrementalPredictor(features=features, target=target, model=model, batch_size=500000)\n",
    "vaex_model.fit(df=df_train, progress='widget')"
   ]
  },
  {
   "cell_type": "code",
   "execution_count": 14,
   "id": "ac285e76",
   "metadata": {},
   "outputs": [],
   "source": [
    "df_test = vaex_model.transform(df_test)"
   ]
  },
  {
   "cell_type": "code",
   "execution_count": 15,
   "id": "aafa4039",
   "metadata": {},
   "outputs": [
    {
     "data": {
      "text/html": [
       "<table>\n",
       "<thead>\n",
       "<tr><th>#                            </th><th style=\"text-align: right;\">        f1</th><th style=\"text-align: right;\">       f2</th><th style=\"text-align: right;\">       f3</th><th style=\"text-align: right;\">        f4</th><th style=\"text-align: right;\">    target</th><th style=\"text-align: right;\">  prediction</th></tr>\n",
       "</thead>\n",
       "<tbody>\n",
       "<tr><td><i style='opacity: 0.6'>0</i></td><td style=\"text-align: right;\"> 0.619126 </td><td style=\"text-align: right;\"> 1.26097 </td><td style=\"text-align: right;\"> 0.314913</td><td style=\"text-align: right;\"> 0.290428 </td><td style=\"text-align: right;\"> 24.0292  </td><td style=\"text-align: right;\">   30.2878  </td></tr>\n",
       "<tr><td><i style='opacity: 0.6'>1</i></td><td style=\"text-align: right;\"> 1.16227  </td><td style=\"text-align: right;\"> 0.834109</td><td style=\"text-align: right;\">-0.314575</td><td style=\"text-align: right;\"> 0.378512 </td><td style=\"text-align: right;\">  9.38004 </td><td style=\"text-align: right;\">   19.9119  </td></tr>\n",
       "<tr><td><i style='opacity: 0.6'>2</i></td><td style=\"text-align: right;\"> 0.693387 </td><td style=\"text-align: right;\"> 1.6551  </td><td style=\"text-align: right;\">-0.543294</td><td style=\"text-align: right;\">-0.0797774</td><td style=\"text-align: right;\"> 38.472   </td><td style=\"text-align: right;\">   39.6999  </td></tr>\n",
       "<tr><td><i style='opacity: 0.6'>3</i></td><td style=\"text-align: right;\"> 1.72537  </td><td style=\"text-align: right;\">-0.703418</td><td style=\"text-align: right;\"> 1.18628 </td><td style=\"text-align: right;\"> 1.13521  </td><td style=\"text-align: right;\">-15.55    </td><td style=\"text-align: right;\">  -17.0438  </td></tr>\n",
       "<tr><td><i style='opacity: 0.6'>4</i></td><td style=\"text-align: right;\"> 0.0527115</td><td style=\"text-align: right;\">-0.12688 </td><td style=\"text-align: right;\">-1.12896 </td><td style=\"text-align: right;\">-0.594576 </td><td style=\"text-align: right;\">-11.096   </td><td style=\"text-align: right;\">   -2.87949 </td></tr>\n",
       "<tr><td><i style='opacity: 0.6'>5</i></td><td style=\"text-align: right;\">-0.425523 </td><td style=\"text-align: right;\">-0.040336</td><td style=\"text-align: right;\"> 0.167376</td><td style=\"text-align: right;\">-1.43632  </td><td style=\"text-align: right;\">  2.53407 </td><td style=\"text-align: right;\">   -0.649487</td></tr>\n",
       "<tr><td><i style='opacity: 0.6'>6</i></td><td style=\"text-align: right;\">-0.37032  </td><td style=\"text-align: right;\"> 0.353593</td><td style=\"text-align: right;\">-1.23187 </td><td style=\"text-align: right;\"> 0.928499 </td><td style=\"text-align: right;\"> 32.1711  </td><td style=\"text-align: right;\">    8.71458 </td></tr>\n",
       "<tr><td><i style='opacity: 0.6'>7</i></td><td style=\"text-align: right;\">-0.600286 </td><td style=\"text-align: right;\">-0.528439</td><td style=\"text-align: right;\">-0.566247</td><td style=\"text-align: right;\"> 1.1272   </td><td style=\"text-align: right;\">-22.6239  </td><td style=\"text-align: right;\">  -12.3608  </td></tr>\n",
       "<tr><td><i style='opacity: 0.6'>8</i></td><td style=\"text-align: right;\"> 0.168639 </td><td style=\"text-align: right;\">-1.3583  </td><td style=\"text-align: right;\"> 0.572962</td><td style=\"text-align: right;\">-2.51428  </td><td style=\"text-align: right;\">  0.393485</td><td style=\"text-align: right;\">  -32.3565  </td></tr>\n",
       "<tr><td><i style='opacity: 0.6'>9</i></td><td style=\"text-align: right;\"> 1.26536  </td><td style=\"text-align: right;\"> 0.966459</td><td style=\"text-align: right;\">-0.121084</td><td style=\"text-align: right;\">-1.47002  </td><td style=\"text-align: right;\"> 12.8037  </td><td style=\"text-align: right;\">   23.0884  </td></tr>\n",
       "</tbody>\n",
       "</table>"
      ],
      "text/plain": [
       "  #          f1         f2         f3          f4      target    prediction\n",
       "  0   0.619126    1.26097    0.314913   0.290428    24.0292       30.2878\n",
       "  1   1.16227     0.834109  -0.314575   0.378512     9.38004      19.9119\n",
       "  2   0.693387    1.6551    -0.543294  -0.0797774   38.472        39.6999\n",
       "  3   1.72537    -0.703418   1.18628    1.13521    -15.55        -17.0438\n",
       "  4   0.0527115  -0.12688   -1.12896   -0.594576   -11.096        -2.87949\n",
       "  5  -0.425523   -0.040336   0.167376  -1.43632      2.53407      -0.649487\n",
       "  6  -0.37032     0.353593  -1.23187    0.928499    32.1711        8.71458\n",
       "  7  -0.600286   -0.528439  -0.566247   1.1272     -22.6239      -12.3608\n",
       "  8   0.168639   -1.3583     0.572962  -2.51428      0.393485    -32.3565\n",
       "  9   1.26536     0.966459  -0.121084  -1.47002     12.8037       23.0884"
      ]
     },
     "execution_count": 15,
     "metadata": {},
     "output_type": "execute_result"
    }
   ],
   "source": [
    "df_test.head()"
   ]
  },
  {
   "cell_type": "code",
   "execution_count": 16,
   "id": "9ddd218f",
   "metadata": {},
   "outputs": [],
   "source": [
    "from sklearn.metrics import r2_score, mean_absolute_error"
   ]
  },
  {
   "cell_type": "code",
   "execution_count": 17,
   "id": "6e0fb7e3",
   "metadata": {},
   "outputs": [
    {
     "name": "stdout",
     "output_type": "stream",
     "text": [
      "0.5921652228866059\n",
      "15.957230831174567\n"
     ]
    }
   ],
   "source": [
    "print(r2_score(df_test['target'].values, df_test['prediction'].values))\n",
    "print(mean_absolute_error(df_test['target'].values, df_test['prediction'].values))"
   ]
  }
 ],
 "metadata": {
  "kernelspec": {
   "display_name": "Python 3 (ipykernel)",
   "language": "python",
   "name": "python3"
  },
  "language_info": {
   "codemirror_mode": {
    "name": "ipython",
    "version": 3
   },
   "file_extension": ".py",
   "mimetype": "text/x-python",
   "name": "python",
   "nbconvert_exporter": "python",
   "pygments_lexer": "ipython3",
   "version": "3.9.12"
  }
 },
 "nbformat": 4,
 "nbformat_minor": 5
}
