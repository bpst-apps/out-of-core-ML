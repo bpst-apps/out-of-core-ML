{
 "cells": [
  {
   "cell_type": "code",
   "execution_count": 1,
   "id": "189f868d",
   "metadata": {},
   "outputs": [],
   "source": [
    "import pandas as pd"
   ]
  },
  {
   "cell_type": "code",
   "execution_count": 2,
   "id": "dc22d053",
   "metadata": {},
   "outputs": [],
   "source": [
    "# %time df = pd.read_csv('large_dataset.csv')\n",
    "# print(df.shape)\n",
    "# df.head()"
   ]
  },
  {
   "cell_type": "code",
   "execution_count": 3,
   "id": "ad513ccf",
   "metadata": {},
   "outputs": [],
   "source": [
    "import vaex"
   ]
  },
  {
   "cell_type": "code",
   "execution_count": 4,
   "id": "696bdb10",
   "metadata": {},
   "outputs": [],
   "source": [
    "# vaex_df = vaex.from_pandas(df)\n",
    "# print(type(vaex_df))\n",
    "# vaex_df.export_hdf5('large_data.hdf5')"
   ]
  },
  {
   "cell_type": "markdown",
   "id": "b8fe1e6b",
   "metadata": {},
   "source": [
    "download dataset [here](https://drive.google.com/file/d/1U__WYRE-TWFOtHGOYyXQHwzdw-VMrwgu/view)"
   ]
  },
  {
   "cell_type": "code",
   "execution_count": 5,
   "id": "d460ce01",
   "metadata": {},
   "outputs": [
    {
     "name": "stdout",
     "output_type": "stream",
     "text": [
      "CPU times: total: 484 ms\n",
      "Wall time: 516 ms\n"
     ]
    }
   ],
   "source": [
    "%time vaex_df = vaex.open('large_data.hdf5')"
   ]
  },
  {
   "cell_type": "markdown",
   "id": "2abe8efb",
   "metadata": {},
   "source": [
    "It just took 484 ms to load 1.1 GB dataset, amazing right."
   ]
  },
  {
   "cell_type": "code",
   "execution_count": 6,
   "id": "0779e4b1",
   "metadata": {},
   "outputs": [
    {
     "data": {
      "text/html": [
       "<table>\n",
       "<thead>\n",
       "<tr><th>#                            </th><th style=\"text-align: right;\">       f1</th><th style=\"text-align: right;\">        f2</th><th style=\"text-align: right;\">       f3</th><th style=\"text-align: right;\">       f4</th><th style=\"text-align: right;\">   target</th></tr>\n",
       "</thead>\n",
       "<tbody>\n",
       "<tr><td><i style='opacity: 0.6'>0</i></td><td style=\"text-align: right;\"> 0.203936</td><td style=\"text-align: right;\">-0.291191 </td><td style=\"text-align: right;\">-0.617251</td><td style=\"text-align: right;\">-1.4613  </td><td style=\"text-align: right;\"> 10.7967 </td></tr>\n",
       "<tr><td><i style='opacity: 0.6'>1</i></td><td style=\"text-align: right;\">-1.19543 </td><td style=\"text-align: right;\"> 0.0692141</td><td style=\"text-align: right;\"> 0.291861</td><td style=\"text-align: right;\"> 1.97251 </td><td style=\"text-align: right;\"> 11.154  </td></tr>\n",
       "<tr><td><i style='opacity: 0.6'>2</i></td><td style=\"text-align: right;\">-2.56027 </td><td style=\"text-align: right;\">-0.827846 </td><td style=\"text-align: right;\"> 0.405551</td><td style=\"text-align: right;\">-0.132588</td><td style=\"text-align: right;\">-20.3427 </td></tr>\n",
       "<tr><td><i style='opacity: 0.6'>3</i></td><td style=\"text-align: right;\">-1.1312  </td><td style=\"text-align: right;\"> 0.252654 </td><td style=\"text-align: right;\"> 0.961175</td><td style=\"text-align: right;\"> 1.23687 </td><td style=\"text-align: right;\">  1.40764</td></tr>\n",
       "<tr><td><i style='opacity: 0.6'>4</i></td><td style=\"text-align: right;\"> 0.858774</td><td style=\"text-align: right;\">-0.461605 </td><td style=\"text-align: right;\"> 1.0955  </td><td style=\"text-align: right;\">-0.87158 </td><td style=\"text-align: right;\">-17.0431 </td></tr>\n",
       "<tr><td><i style='opacity: 0.6'>5</i></td><td style=\"text-align: right;\"> 0.63273 </td><td style=\"text-align: right;\"> 2.07437  </td><td style=\"text-align: right;\">-0.700978</td><td style=\"text-align: right;\"> 1.36085 </td><td style=\"text-align: right;\"> 49.2754 </td></tr>\n",
       "<tr><td><i style='opacity: 0.6'>6</i></td><td style=\"text-align: right;\">-1.92771 </td><td style=\"text-align: right;\"> 0.155743 </td><td style=\"text-align: right;\">-0.394158</td><td style=\"text-align: right;\">-1.3712  </td><td style=\"text-align: right;\"> 11.0902 </td></tr>\n",
       "<tr><td><i style='opacity: 0.6'>7</i></td><td style=\"text-align: right;\">-0.165462</td><td style=\"text-align: right;\">-0.481113 </td><td style=\"text-align: right;\">-1.29813 </td><td style=\"text-align: right;\"> 1.75204 </td><td style=\"text-align: right;\">-41.1136 </td></tr>\n",
       "<tr><td><i style='opacity: 0.6'>8</i></td><td style=\"text-align: right;\">-1.31883 </td><td style=\"text-align: right;\"> 0.393728 </td><td style=\"text-align: right;\">-1.83311 </td><td style=\"text-align: right;\">-0.599728</td><td style=\"text-align: right;\">  1.87724</td></tr>\n",
       "<tr><td><i style='opacity: 0.6'>9</i></td><td style=\"text-align: right;\">-0.671377</td><td style=\"text-align: right;\">-0.172073 </td><td style=\"text-align: right;\">-0.75585 </td><td style=\"text-align: right;\"> 1.05745 </td><td style=\"text-align: right;\">-26.2623 </td></tr>\n",
       "</tbody>\n",
       "</table>"
      ],
      "text/plain": [
       "  #         f1          f2         f3         f4     target\n",
       "  0   0.203936  -0.291191   -0.617251  -1.4613     10.7967\n",
       "  1  -1.19543    0.0692141   0.291861   1.97251    11.154\n",
       "  2  -2.56027   -0.827846    0.405551  -0.132588  -20.3427\n",
       "  3  -1.1312     0.252654    0.961175   1.23687     1.40764\n",
       "  4   0.858774  -0.461605    1.0955    -0.87158   -17.0431\n",
       "  5   0.63273    2.07437    -0.700978   1.36085    49.2754\n",
       "  6  -1.92771    0.155743   -0.394158  -1.3712     11.0902\n",
       "  7  -0.165462  -0.481113   -1.29813    1.75204   -41.1136\n",
       "  8  -1.31883    0.393728   -1.83311   -0.599728    1.87724\n",
       "  9  -0.671377  -0.172073   -0.75585    1.05745   -26.2623"
      ]
     },
     "execution_count": 6,
     "metadata": {},
     "output_type": "execute_result"
    }
   ],
   "source": [
    "vaex_df.head()"
   ]
  },
  {
   "cell_type": "code",
   "execution_count": 7,
   "id": "3dc0844a",
   "metadata": {},
   "outputs": [
    {
     "name": "stderr",
     "output_type": "stream",
     "text": [
      "C:\\Users\\thaku\\anaconda3\\envs\\deep-learning\\lib\\site-packages\\vaex\\ml\\__init__.py:28: UserWarning: Make sure the DataFrame is shuffled\n",
      "  warnings.warn('Make sure the DataFrame is shuffled')\n"
     ]
    }
   ],
   "source": [
    "vaex_df = vaex_df.shuffle()\n",
    "df_train, df_test = vaex_df.ml.train_test_split(test_size=0.2)"
   ]
  },
  {
   "cell_type": "code",
   "execution_count": 8,
   "id": "03906410",
   "metadata": {},
   "outputs": [
    {
     "data": {
      "text/plain": [
       "(24000000, 5)"
      ]
     },
     "execution_count": 8,
     "metadata": {},
     "output_type": "execute_result"
    }
   ],
   "source": [
    "df_train.shape"
   ]
  },
  {
   "cell_type": "code",
   "execution_count": 9,
   "id": "f6b182e3",
   "metadata": {},
   "outputs": [
    {
     "data": {
      "text/plain": [
       "(6000000, 5)"
      ]
     },
     "execution_count": 9,
     "metadata": {},
     "output_type": "execute_result"
    }
   ],
   "source": [
    "df_test.shape"
   ]
  },
  {
   "cell_type": "code",
   "execution_count": 10,
   "id": "67f07bee",
   "metadata": {},
   "outputs": [],
   "source": [
    "from vaex.ml.sklearn import IncrementalPredictor\n",
    "from sklearn.linear_model import SGDRegressor"
   ]
  },
  {
   "cell_type": "code",
   "execution_count": 11,
   "id": "374bb3de",
   "metadata": {},
   "outputs": [],
   "source": [
    "features = ['f1','f2','f3','f4']\n",
    "target = 'target'"
   ]
  },
  {
   "cell_type": "code",
   "execution_count": 12,
   "id": "9503cee9",
   "metadata": {},
   "outputs": [],
   "source": [
    "model = SGDRegressor()"
   ]
  },
  {
   "cell_type": "code",
   "execution_count": 13,
   "id": "fca14710",
   "metadata": {},
   "outputs": [
    {
     "data": {
      "application/vnd.jupyter.widget-view+json": {
       "model_id": "5513bdfcf4a44ac89dc50115bb60c97c",
       "version_major": 2,
       "version_minor": 0
      },
      "text/plain": [
       "HBox(children=(FloatProgress(value=0.0, max=1.0), Label(value='In progress...')))"
      ]
     },
     "metadata": {},
     "output_type": "display_data"
    }
   ],
   "source": [
    "vaex_model = IncrementalPredictor(features=features, target=target, model=model, batch_size=500000)\n",
    "vaex_model.fit(df=df_train, progress='widget')"
   ]
  },
  {
   "cell_type": "code",
   "execution_count": 14,
   "id": "7c50e3d3",
   "metadata": {},
   "outputs": [],
   "source": [
    "df_test = vaex_model.transform(df_test)"
   ]
  },
  {
   "cell_type": "code",
   "execution_count": 15,
   "id": "7ccce074",
   "metadata": {},
   "outputs": [
    {
     "data": {
      "text/html": [
       "<table>\n",
       "<thead>\n",
       "<tr><th>#                            </th><th style=\"text-align: right;\">        f1</th><th style=\"text-align: right;\">         f2</th><th style=\"text-align: right;\">        f3</th><th style=\"text-align: right;\">        f4</th><th style=\"text-align: right;\">     target</th><th style=\"text-align: right;\">  prediction</th></tr>\n",
       "</thead>\n",
       "<tbody>\n",
       "<tr><td><i style='opacity: 0.6'>0</i></td><td style=\"text-align: right;\">-0.471503 </td><td style=\"text-align: right;\">-1.16984   </td><td style=\"text-align: right;\">-3.43323  </td><td style=\"text-align: right;\">-0.108833 </td><td style=\"text-align: right;\">-31.4137   </td><td style=\"text-align: right;\">  -27.5899  </td></tr>\n",
       "<tr><td><i style='opacity: 0.6'>1</i></td><td style=\"text-align: right;\">-0.319622 </td><td style=\"text-align: right;\"> 0.694952  </td><td style=\"text-align: right;\"> 0.145402 </td><td style=\"text-align: right;\">-0.617327 </td><td style=\"text-align: right;\">-10.7958   </td><td style=\"text-align: right;\">   16.5934  </td></tr>\n",
       "<tr><td><i style='opacity: 0.6'>2</i></td><td style=\"text-align: right;\"> 1.11763  </td><td style=\"text-align: right;\"> 1.3145    </td><td style=\"text-align: right;\"> 0.91143  </td><td style=\"text-align: right;\">-0.564424 </td><td style=\"text-align: right;\"> 43.1347   </td><td style=\"text-align: right;\">   31.6443  </td></tr>\n",
       "<tr><td><i style='opacity: 0.6'>3</i></td><td style=\"text-align: right;\"> 1.15673  </td><td style=\"text-align: right;\">-0.00602041</td><td style=\"text-align: right;\"> 0.951329 </td><td style=\"text-align: right;\"> 0.303354 </td><td style=\"text-align: right;\"> 39.3848   </td><td style=\"text-align: right;\">   -0.215818</td></tr>\n",
       "<tr><td><i style='opacity: 0.6'>4</i></td><td style=\"text-align: right;\">-0.861004 </td><td style=\"text-align: right;\">-0.289867  </td><td style=\"text-align: right;\">-2.53523  </td><td style=\"text-align: right;\">-0.989466 </td><td style=\"text-align: right;\">  0.0405576</td><td style=\"text-align: right;\">   -6.6412  </td></tr>\n",
       "<tr><td><i style='opacity: 0.6'>5</i></td><td style=\"text-align: right;\">-0.0385882</td><td style=\"text-align: right;\">-0.259006  </td><td style=\"text-align: right;\"> 2.44187  </td><td style=\"text-align: right;\"> 0.0960686</td><td style=\"text-align: right;\"> 40.279    </td><td style=\"text-align: right;\">   -6.89754 </td></tr>\n",
       "<tr><td><i style='opacity: 0.6'>6</i></td><td style=\"text-align: right;\"> 1.14564  </td><td style=\"text-align: right;\"> 0.964074  </td><td style=\"text-align: right;\"> 0.534795 </td><td style=\"text-align: right;\"> 0.695921 </td><td style=\"text-align: right;\"> 52.4746   </td><td style=\"text-align: right;\">   23.2691  </td></tr>\n",
       "<tr><td><i style='opacity: 0.6'>7</i></td><td style=\"text-align: right;\">-0.353849 </td><td style=\"text-align: right;\">-0.273484  </td><td style=\"text-align: right;\"> 1.52172  </td><td style=\"text-align: right;\"> 0.505745 </td><td style=\"text-align: right;\">-27.0124   </td><td style=\"text-align: right;\">   -7.10223 </td></tr>\n",
       "<tr><td><i style='opacity: 0.6'>8</i></td><td style=\"text-align: right;\"> 1.25037  </td><td style=\"text-align: right;\"> 1.45035   </td><td style=\"text-align: right;\">-1.53682  </td><td style=\"text-align: right;\">-0.395813 </td><td style=\"text-align: right;\"> 63.0019   </td><td style=\"text-align: right;\">   35.5107  </td></tr>\n",
       "<tr><td><i style='opacity: 0.6'>9</i></td><td style=\"text-align: right;\"> 1.35137  </td><td style=\"text-align: right;\"> 0.51176   </td><td style=\"text-align: right;\"> 0.0204803</td><td style=\"text-align: right;\">-1.3794   </td><td style=\"text-align: right;\">  8.64062  </td><td style=\"text-align: right;\">   12.5475  </td></tr>\n",
       "</tbody>\n",
       "</table>"
      ],
      "text/plain": [
       "  #          f1           f2          f3          f4       target    prediction\n",
       "  0  -0.471503   -1.16984     -3.43323    -0.108833   -31.4137       -27.5899\n",
       "  1  -0.319622    0.694952     0.145402   -0.617327   -10.7958        16.5934\n",
       "  2   1.11763     1.3145       0.91143    -0.564424    43.1347        31.6443\n",
       "  3   1.15673    -0.00602041   0.951329    0.303354    39.3848        -0.215818\n",
       "  4  -0.861004   -0.289867    -2.53523    -0.989466     0.0405576     -6.6412\n",
       "  5  -0.0385882  -0.259006     2.44187     0.0960686   40.279         -6.89754\n",
       "  6   1.14564     0.964074     0.534795    0.695921    52.4746        23.2691\n",
       "  7  -0.353849   -0.273484     1.52172     0.505745   -27.0124        -7.10223\n",
       "  8   1.25037     1.45035     -1.53682    -0.395813    63.0019        35.5107\n",
       "  9   1.35137     0.51176      0.0204803  -1.3794       8.64062       12.5475"
      ]
     },
     "execution_count": 15,
     "metadata": {},
     "output_type": "execute_result"
    }
   ],
   "source": [
    "df_test.head()"
   ]
  },
  {
   "cell_type": "code",
   "execution_count": 16,
   "id": "845e4ad8",
   "metadata": {},
   "outputs": [],
   "source": [
    "from sklearn.metrics import r2_score, mean_absolute_error"
   ]
  },
  {
   "cell_type": "code",
   "execution_count": 17,
   "id": "a66dda7f",
   "metadata": {},
   "outputs": [
    {
     "name": "stdout",
     "output_type": "stream",
     "text": [
      "0.5917139579230364\n",
      "15.970253181052126\n"
     ]
    }
   ],
   "source": [
    "print(r2_score(df_test['target'].values, df_test['prediction'].values))\n",
    "print(mean_absolute_error(df_test['target'].values, df_test['prediction'].values))"
   ]
  }
 ],
 "metadata": {
  "kernelspec": {
   "display_name": "Python 3 (ipykernel)",
   "language": "python",
   "name": "python3"
  },
  "language_info": {
   "codemirror_mode": {
    "name": "ipython",
    "version": 3
   },
   "file_extension": ".py",
   "mimetype": "text/x-python",
   "name": "python",
   "nbconvert_exporter": "python",
   "pygments_lexer": "ipython3",
   "version": "3.9.12"
  }
 },
 "nbformat": 4,
 "nbformat_minor": 5
}
